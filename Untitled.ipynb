{
 "cells": [
  {
   "cell_type": "code",
   "execution_count": 14,
   "id": "54d30dd8",
   "metadata": {},
   "outputs": [
    {
     "ename": "ImportError",
     "evalue": "cannot import name 'StrEnum' from 'enum' (/home/SKhelifi/miniconda3/envs/art_ia/lib/python3.10/enum.py)",
     "output_type": "error",
     "traceback": [
      "\u001b[0;31m---------------------------------------------------------------------------\u001b[0m",
      "\u001b[0;31mImportError\u001b[0m                               Traceback (most recent call last)",
      "Cell \u001b[0;32mIn [14], line 1\u001b[0m\n\u001b[0;32m----> 1\u001b[0m \u001b[38;5;28;01mfrom\u001b[39;00m \u001b[38;5;21;01menum\u001b[39;00m \u001b[38;5;28;01mimport\u001b[39;00m Enum, StrEnum\n\u001b[1;32m      3\u001b[0m \u001b[38;5;28;01mclass\u001b[39;00m \u001b[38;5;21;01mMyEnum\u001b[39;00m(\u001b[38;5;28mstr\u001b[39m, StrEnum):\n\u001b[1;32m      4\u001b[0m     state1 \u001b[38;5;241m=\u001b[39m \u001b[38;5;124m'\u001b[39m\u001b[38;5;124mstate1\u001b[39m\u001b[38;5;124m'\u001b[39m\n",
      "\u001b[0;31mImportError\u001b[0m: cannot import name 'StrEnum' from 'enum' (/home/SKhelifi/miniconda3/envs/art_ia/lib/python3.10/enum.py)"
     ]
    }
   ],
   "source": [
    "from enum import Enum\n",
    "\n",
    "class MyEnum(str, StrEnum):\n",
    "    state1 = 'state1'\n",
    "    state2 = 'state2'"
   ]
  },
  {
   "cell_type": "code",
   "execution_count": 17,
   "id": "aee41516",
   "metadata": {},
   "outputs": [
    {
     "data": {
      "text/plain": [
       "True"
      ]
     },
     "execution_count": 17,
     "metadata": {},
     "output_type": "execute_result"
    }
   ],
   "source": [
    "MyEnum.state1 == 'state1'"
   ]
  },
  {
   "cell_type": "code",
   "execution_count": 13,
   "id": "0eb191a6",
   "metadata": {},
   "outputs": [
    {
     "data": {
      "text/plain": [
       "['MyEnum.state1', 'MyEnum.state2']"
      ]
     },
     "execution_count": 13,
     "metadata": {},
     "output_type": "execute_result"
    }
   ],
   "source": [
    "l = [str(i) for i in MyEnum]\n",
    "l"
   ]
  },
  {
   "cell_type": "code",
   "execution_count": null,
   "id": "9d2868e5",
   "metadata": {},
   "outputs": [],
   "source": []
  }
 ],
 "metadata": {
  "kernelspec": {
   "display_name": "Python (art_ia)",
   "language": "python",
   "name": "art_ia"
  },
  "language_info": {
   "codemirror_mode": {
    "name": "ipython",
    "version": 3
   },
   "file_extension": ".py",
   "mimetype": "text/x-python",
   "name": "python",
   "nbconvert_exporter": "python",
   "pygments_lexer": "ipython3",
   "version": "3.10.6"
  }
 },
 "nbformat": 4,
 "nbformat_minor": 5
}
